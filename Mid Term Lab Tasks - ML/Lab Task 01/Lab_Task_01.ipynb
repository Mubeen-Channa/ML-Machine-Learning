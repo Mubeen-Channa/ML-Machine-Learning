{
 "cells": [
  {
   "cell_type": "markdown",
   "metadata": {},
   "source": [
    "# This program takes two numbers as input and performs arithmetic operations (+, -, *, /) based on user input."
   ]
  },
  {
   "cell_type": "code",
   "execution_count": 5,
   "metadata": {},
   "outputs": [
    {
     "name": "stdout",
     "output_type": "stream",
     "text": [
      "Sum of 2 numbers:  4\n"
     ]
    }
   ],
   "source": [
    "try: \n",
    "    input_1 = int(input(\"Enter Number 1 : \"))\n",
    "    input_2 = int(input(\"Enter Number 2 : \"))\n",
    "    operation = input(\"Enter Operation +, -, * or / : \")\n",
    "\n",
    "    if (operation == '+'):\n",
    "        add(input_1, input_2)\n",
    "    elif (operation == \"-\"):\n",
    "        sub(input_1, input_2)\n",
    "    elif (operation == \"*\"):\n",
    "        mul(input_1, input_2)\n",
    "    elif (operation == \"/\"):\n",
    "        div(input_1, input_2)\n",
    "    else:\n",
    "        print(\"Invalid operation. Please enter +, -, *, or /.\")\n",
    "\n",
    "except ValueError:\n",
    "    print(\"Please enter valid numbers.\")\n",
    "\n",
    "\n",
    "def add(x, y):\n",
    "    print (\"Sum of 2 numbers: \", x+y)\n",
    "\n",
    "def sub(x, y):\n",
    "    print (\"Subtraction of 2 numbers: \",x-y)\n",
    "\n",
    "def mul(x, y):\n",
    "    print (\"Multiplication of 2 numbers: \", x*y)\n",
    "    \n",
    "def div(x, y):\n",
    "    if y == 0:\n",
    "        print(\"Division by zero is not allowed.\")\n",
    "    else:\n",
    "        print (\"Division of 2 numbers: \", x/y)\n"
   ]
  }
 ],
 "metadata": {
  "kernelspec": {
   "display_name": "Python 3",
   "language": "python",
   "name": "python3"
  },
  "language_info": {
   "codemirror_mode": {
    "name": "ipython",
    "version": 3
   },
   "file_extension": ".py",
   "mimetype": "text/x-python",
   "name": "python",
   "nbconvert_exporter": "python",
   "pygments_lexer": "ipython3",
   "version": "3.13.1"
  }
 },
 "nbformat": 4,
 "nbformat_minor": 2
}
